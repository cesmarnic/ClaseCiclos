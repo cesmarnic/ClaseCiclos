{
 "cells": [
  {
   "attachments": {},
   "cell_type": "markdown",
   "metadata": {},
   "source": [
    "# Ciclos While\n",
    "---\n",
    "## 1. Introducción\n",
    "Definicion: Un ciclo while es una estructura de control que permite repetir un conjunto de instrucciones mientras se cumpla una condición.\n",
    "\n",
    "```python\n",
    "# Esquema de un ciclo while\n",
    "while condicion:\n",
    "    conjunto de instrucciones a repetir\n",
    "```"
   ]
  },
  {
   "cell_type": "code",
   "execution_count": 1,
   "metadata": {},
   "outputs": [
    {
     "name": "stdout",
     "output_type": "stream",
     "text": [
      "Hola\n",
      "Hola\n",
      "Hola\n",
      "Hola\n",
      "Hola\n",
      "Hola\n",
      "Hola\n",
      "Hola\n",
      "Hola\n",
      "Hola\n"
     ]
    }
   ],
   "source": [
    "# Mostrar \"Hola\" 10 veces...\n",
    "i = 1\n",
    "while i <= 10:\n",
    "    print(\"Hola\")\n",
    "    i += 1"
   ]
  },
  {
   "attachments": {},
   "cell_type": "markdown",
   "metadata": {},
   "source": [
    "## 2. Ejemplo\n",
    "Ejemplo: Escribir un programa que permita ingresar números enteros por teclado, y que muestre la suma de los números ingresados. El programa finaliza cuando se ingresa el número 0.\n",
    "\n",
    "```python\n",
    "# Inicializamos la variable suma\n",
    "suma = 0\n",
    "# Ingresamos el primer número\n",
    "num = int(input(\"Ingrese un número: \"))\n",
    "# Mientras el número ingresado sea distinto de 0\n",
    "while num != 0:\n",
    "    # Sumamos el número ingresado a la variable suma\n",
    "    suma = suma + num\n",
    "    # Ingresamos el siguiente número\n",
    "    num = int(input(\"Ingrese un número: \"))\n",
    "# Mostramos el resultado\n",
    "print(\"La suma de los números ingresados es:\", suma)\n",
    "```\n",
    "Ir al Ejercicio 👉🏻 [Ejemplo 01](While/Ejemplo01.py)"
   ]
  }
 ],
 "metadata": {
  "kernelspec": {
   "display_name": "Python 3",
   "language": "python",
   "name": "python3"
  },
  "language_info": {
   "codemirror_mode": {
    "name": "ipython",
    "version": 3
   },
   "file_extension": ".py",
   "mimetype": "text/x-python",
   "name": "python",
   "nbconvert_exporter": "python",
   "pygments_lexer": "ipython3",
   "version": "3.10.4"
  },
  "orig_nbformat": 4
 },
 "nbformat": 4,
 "nbformat_minor": 2
}
