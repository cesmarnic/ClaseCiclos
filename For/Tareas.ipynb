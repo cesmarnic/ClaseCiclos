{
 "cells": [
  {
   "attachments": {},
   "cell_type": "markdown",
   "metadata": {},
   "source": [
    "### Tarea For\n",
    "---\n",
    "1. Ejercicio 1:\n",
    "Calcular la suma de los primeros n números naturales. El usuario debe ingresar el valor de n.\n",
    "[Solución 👉🏻](Tarea1.py)\n",
    "---\n",
    "2. Ejercicio 2:\n",
    "Mostrar en pantalla los primeros n números pares. El usuario debe ingresar el valor de n.\n",
    "[Solución 👉🏻](Tarea2.py)\n",
    "---\n",
    "3. Ejercicio 3:\n",
    "Pedir al usuario que ingrese una palabra y luego mostrar en pantalla cada una de sus letras, una por línea.\n",
    "[Solución 👉🏻](Tarea3.py)"
   ]
  }
 ],
 "metadata": {
  "kernelspec": {
   "display_name": "Python 3",
   "language": "python",
   "name": "python3"
  },
  "language_info": {
   "codemirror_mode": {
    "name": "ipython",
    "version": 3
   },
   "file_extension": ".py",
   "mimetype": "text/x-python",
   "name": "python",
   "nbconvert_exporter": "python",
   "pygments_lexer": "ipython3",
   "version": "3.10.4"
  },
  "orig_nbformat": 4
 },
 "nbformat": 4,
 "nbformat_minor": 2
}
